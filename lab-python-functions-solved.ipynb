{
 "cells": [
  {
   "cell_type": "markdown",
   "id": "25d7736c-ba17-4aff-b6bb-66eba20fbf4e",
   "metadata": {},
   "source": [
    "# Lab | Functions"
   ]
  },
  {
   "cell_type": "markdown",
   "id": "0c581062-8967-4d93-b06e-62833222f930",
   "metadata": {
    "tags": []
   },
   "source": [
    "## Exercise: Managing Customer Orders with Functions\n",
    "\n",
    "In the previous exercise, you improved the code for managing customer orders by using loops and flow control. Now, let's take it a step further and refactor the code by introducing functions.\n",
    "\n",
    "Follow the steps below to complete the exercise:\n",
    "\n",
    "1. Define a function named `initialize_inventory` that takes `products` as a parameter. Inside the function, implement the code for initializing the inventory dictionary using a loop and user input.\n",
    "\n",
    "2. Define a function named `get_customer_orders` that takes no parameters. Inside the function, implement the code for prompting the user to enter the product names using a loop. The function should return the `customer_orders` set.\n",
    "\n",
    "3. Define a function named `update_inventory` that takes `customer_orders` and `inventory` as parameters. Inside the function, implement the code for updating the inventory dictionary based on the customer orders.\n",
    "\n",
    "4. Define a function named `calculate_order_statistics` that takes `customer_orders` and `products` as parameters. Inside the function, implement the code for calculating the order statistics (total products ordered, and percentage of unique products ordered). The function should return these values.\n",
    "\n",
    "5. Define a function named `print_order_statistics` that takes `order_statistics` as a parameter. Inside the function, implement the code for printing the order statistics.\n",
    "\n",
    "6. Define a function named `print_updated_inventory` that takes `inventory` as a parameter. Inside the function, implement the code for printing the updated inventory.\n",
    "\n",
    "7. Call the functions in the appropriate sequence to execute the program and manage customer orders.\n",
    "\n",
    "Hints for functions:\n",
    "\n",
    "- Consider the input parameters required for each function and their return values.\n",
    "- Utilize function parameters and return values to transfer data between functions.\n",
    "- Test your functions individually to ensure they work correctly.\n",
    "\n",
    "\n"
   ]
  },
  {
   "cell_type": "code",
   "execution_count": 43,
   "id": "4906d3ce",
   "metadata": {},
   "outputs": [],
   "source": [
    "products = [\"t-shirt\", \"mug\", \"hat\", \"book\", \"keychain\"]\n",
    "inventory = {}"
   ]
  },
  {
   "cell_type": "code",
   "execution_count": 44,
   "id": "31b30503",
   "metadata": {},
   "outputs": [],
   "source": [
    "#1. Define a function named `initialize_inventory` that takes `products` as a parameter. \n",
    "#Inside the function, implement the code for initializing the inventory dictionary using a loop and user input.\n",
    "\n",
    "def initialize_inventory(products):\n",
    "    \n",
    "    '''initialize_inventory that takes products as a parameter. Inside the function, implement the code for initializing the inventory dictionary using a loop and user input.'''\n",
    "    inventory = dict()\n",
    "    for product in products:\n",
    "        quantity = input(f'Number of {product} available: ')\n",
    "\n",
    "\n",
    "        while not quantity.isdigit():\n",
    "            quantity = input(f'Number of {product} available, please type a digit: ')\n",
    "        inventory[product] = int(quantity)\n",
    "        #inventory.update({product:int(quantity)})\n",
    "        print(f'Product {product} has {quantity} in stock')\n",
    "    return inventory"
   ]
  },
  {
   "cell_type": "code",
   "execution_count": 45,
   "id": "a2056e8a",
   "metadata": {
    "collapsed": true
   },
   "outputs": [
    {
     "name": "stdout",
     "output_type": "stream",
     "text": [
      "Number of t-shirt available: 10\n",
      "Product t-shirt has 10 in stock\n",
      "Number of mug available: 10\n",
      "Product mug has 10 in stock\n",
      "Number of hat available: 10\n",
      "Product hat has 10 in stock\n",
      "Number of book available: 10\n",
      "Product book has 10 in stock\n",
      "Number of keychain available: 10\n",
      "Product keychain has 10 in stock\n"
     ]
    }
   ],
   "source": [
    "inventory = initialize_inventory(products)"
   ]
  },
  {
   "cell_type": "code",
   "execution_count": 35,
   "id": "090ec41c",
   "metadata": {},
   "outputs": [],
   "source": [
    "#Define a function named `get_customer_orders` that takes no parameters. \n",
    "#Inside the function, implement the code for prompting the user to enter the product names using a loop. \n",
    "#The function should return the `customer_orders` set.\n",
    "\n",
    "def get_customer_orders():\n",
    "    ''' get_customer_orders that takes no parameters. Inside the function, implement the code for prompting the user to enter the product names using a loop. The function should return the customer_orders set.'''\n",
    "    \n",
    "    customer_orders = set() # create customer cart\n",
    "\n",
    "    x = True\n",
    "    while x == True:\n",
    "        order = input('Enter the name of your product ')# ask for user input\n",
    "        while order not in products: # input validation\n",
    "            order = input(f'Please type a product in {products}') # ask for user input\n",
    "        else:\n",
    "            if len(customer_orders) == len(products):\n",
    "                print('No more products to order')\n",
    "                x = False\n",
    "            else:\n",
    "                customer_orders.add(order)\n",
    "                upsell = input(\"Would you like to add another product ?  Type y for 'yes' or n for 'no' y/n  \")\n",
    "                upsell_input = upsell.lower()\n",
    "\n",
    "                while upsell_input != 'y' and upsell_input != 'n':\n",
    "                    upsell = input(\"Would you like to add another product ?  Type y for 'yes' or n for 'no' y/n  \")\n",
    "                else:\n",
    "                    if upsell_input == 'n':\n",
    "                        x = False\n",
    "                        print('Thank you for your order!' )\n",
    "                    \n",
    "    return customer_orders"
   ]
  },
  {
   "cell_type": "code",
   "execution_count": 46,
   "id": "5eb4660c",
   "metadata": {
    "collapsed": true
   },
   "outputs": [
    {
     "name": "stdout",
     "output_type": "stream",
     "text": [
      "Enter the name of your product mug\n",
      "Would you like to add another product ?  Type y for 'yes' or n for 'no' y/n  y\n",
      "Enter the name of your product book\n",
      "Would you like to add another product ?  Type y for 'yes' or n for 'no' y/n  y\n",
      "Enter the name of your product hat\n",
      "Would you like to add another product ?  Type y for 'yes' or n for 'no' y/n  y\n",
      "Enter the name of your product book\n",
      "Would you like to add another product ?  Type y for 'yes' or n for 'no' y/n  n\n",
      "Thank you for your order!\n"
     ]
    }
   ],
   "source": [
    "customer_orders = get_customer_orders()"
   ]
  },
  {
   "cell_type": "code",
   "execution_count": 47,
   "id": "778a5d79",
   "metadata": {},
   "outputs": [],
   "source": [
    "def updated_inventory(customer_orders, inventory):\n",
    "    '''update_inventory that takes customer_orders and inventory as parameters. \n",
    "    Inside the function, implement the code for updating the inventory dictionary based on the customer orders.'''\n",
    "    for product in customer_orders:\n",
    "        if product in inventory:  # Check if the product is in the inventory\n",
    "            inventory[product] -= 1\n",
    "    return inventory"
   ]
  },
  {
   "cell_type": "code",
   "execution_count": 48,
   "id": "0809e1a8",
   "metadata": {},
   "outputs": [],
   "source": [
    "inventory = updated_inventory(customer_orders, inventory)"
   ]
  },
  {
   "cell_type": "code",
   "execution_count": 50,
   "id": "f4b1b04a",
   "metadata": {},
   "outputs": [
    {
     "name": "stdout",
     "output_type": "stream",
     "text": [
      "Inventory: {'t-shirt': 10, 'mug': 9, 'hat': 9, 'book': 9, 'keychain': 10}\n"
     ]
    }
   ],
   "source": [
    "print(\"Inventory:\", inventory)"
   ]
  },
  {
   "cell_type": "code",
   "execution_count": 60,
   "id": "504c6c55",
   "metadata": {},
   "outputs": [],
   "source": [
    "#Define a function named `calculate_order_statistics` that takes `customer_orders` and `products` as parameters. \n",
    "#Inside the function, implement the code for calculating the order statistics (total products ordered, and percentage of unique products ordered). \n",
    "#The function should return these values.\n",
    "\n",
    "def calculate_order_statistics(customer_orders, products):\n",
    "    total_purchase = len(customer_orders)\n",
    "    quantity_of_products = sum(inventory.values())\n",
    "    order_percentual = (total_purchase/quantity_of_products)*100\n",
    "    statistics_tuple = (total_purchase,order_percentual)\n",
    "    return statistics_tuple"
   ]
  },
  {
   "cell_type": "code",
   "execution_count": 61,
   "id": "a9bb48b4",
   "metadata": {},
   "outputs": [],
   "source": [
    "order_statistics = calculate_order_statistics(customer_orders, products)"
   ]
  },
  {
   "cell_type": "code",
   "execution_count": 64,
   "id": "3963bbd5",
   "metadata": {},
   "outputs": [],
   "source": [
    "#Define a function named `print_order_statistics` that takes `order_statistics` as a parameter. \n",
    "#Inside the function, implement the code for printing the order statistics.\n",
    "\n",
    "def print_order_statistics(statistics_tuple):\n",
    "    print(f'''Order Statistics:\n",
    "    Total Products Ordered: {statistics_tuple[0]}\n",
    "    Percentage of Products Ordered: {statistics_tuple[1]}% ''')"
   ]
  },
  {
   "cell_type": "code",
   "execution_count": 65,
   "id": "4a7b18c8",
   "metadata": {},
   "outputs": [
    {
     "name": "stdout",
     "output_type": "stream",
     "text": [
      "Order Statistics:\n",
      "    Total Products Ordered: 3\n",
      "    Percentage of Products Ordered: 6.382978723404255% \n"
     ]
    }
   ],
   "source": [
    "statistics = print_order_statistics(order_statistics)"
   ]
  }
 ],
 "metadata": {
  "kernelspec": {
   "display_name": "Python 3 (ipykernel)",
   "language": "python",
   "name": "python3"
  },
  "language_info": {
   "codemirror_mode": {
    "name": "ipython",
    "version": 3
   },
   "file_extension": ".py",
   "mimetype": "text/x-python",
   "name": "python",
   "nbconvert_exporter": "python",
   "pygments_lexer": "ipython3",
   "version": "3.11.5"
  },
  "toc": {
   "base_numbering": 1,
   "nav_menu": {},
   "number_sections": true,
   "sideBar": true,
   "skip_h1_title": false,
   "title_cell": "Table of Contents",
   "title_sidebar": "Contents",
   "toc_cell": false,
   "toc_position": {},
   "toc_section_display": true,
   "toc_window_display": false
  }
 },
 "nbformat": 4,
 "nbformat_minor": 5
}
